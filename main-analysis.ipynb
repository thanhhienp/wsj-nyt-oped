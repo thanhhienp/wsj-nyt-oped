{
 "cells": [
  {
   "cell_type": "code",
   "execution_count": 1,
   "metadata": {
    "collapsed": true
   },
   "outputs": [],
   "source": [
    "import pandas as pd\n",
    "import re\n",
    "from collections import Counter\n",
    "import little_mallet_wrapper\n",
    "from pathlib import Path\n",
    "import datetime"
   ]
  },
  {
   "cell_type": "code",
   "execution_count": 140,
   "outputs": [],
   "source": [
    "# Change number of topics for the model\n",
    "num_topics = 30\n",
    "output_suffix = 'all-30'"
   ],
   "metadata": {
    "collapsed": false,
    "pycharm": {
     "name": "#%%\n"
    }
   }
  },
  {
   "cell_type": "code",
   "execution_count": 15,
   "outputs": [],
   "source": [
    "# Importing WSJ data\n",
    "filePath = \"./WSJournal/scraped-wsj-data/WSJ_2020-1-1_2020-12-31.csv\"\n",
    "originalWSJ = pd.read_csv(filePath)\n",
    "# Importing NYT data\n",
    "fileLocation = \"./NYTimes/articles.csv\"\n",
    "originalNYT = pd.read_csv(fileLocation)\n",
    "originalNYT = originalNYT.rename(columns={\"Headline\": \"Headline\", \"text\": \"Text\"})"
   ],
   "metadata": {
    "collapsed": false,
    "pycharm": {
     "name": "#%%\n"
    }
   }
  },
  {
   "cell_type": "code",
   "execution_count": 16,
   "outputs": [
    {
     "data": {
      "text/plain": "         Date                                           Headline  \\\n0  2020/01/01        Why Would Elizabeth Warren Want More Banks?   \n1  2020/01/01  ‘Hate Crime’ Is Only a Step Away From Thoughtc...   \n2  2020/01/01        Latin America’s ‘Oasis’ Descends Into Chaos   \n3  2020/01/01                                Gertrude Himmelfarb   \n4  2020/01/02                Warren Zevon’s Wisdom for the 2020s   \n\n               Type                                                URL  \\\n0        Commentary  https://www.wsj.com/articles/why-would-elizabe...   \n1        Commentary  https://www.wsj.com/articles/hate-crime-is-onl...   \n2        Commentary  https://www.wsj.com/articles/latin-americas-oa...   \n3  Review & Outlook  https://www.wsj.com/articles/gertrude-himmelfa...   \n4      Declarations  https://www.wsj.com/articles/warren-zevons-wis...   \n\n                                                Text  \n0  America is losing too many banks, according to...  \n1  Does it make sense that a person can burn an A...  \n2  Chile—Latin America’s freest, most stable and ...  \n3  She was an accomplished historian known for ri...  \n4  I bumped into a great artist on the morning of...  ",
      "text/html": "<div>\n<style scoped>\n    .dataframe tbody tr th:only-of-type {\n        vertical-align: middle;\n    }\n\n    .dataframe tbody tr th {\n        vertical-align: top;\n    }\n\n    .dataframe thead th {\n        text-align: right;\n    }\n</style>\n<table border=\"1\" class=\"dataframe\">\n  <thead>\n    <tr style=\"text-align: right;\">\n      <th></th>\n      <th>Date</th>\n      <th>Headline</th>\n      <th>Type</th>\n      <th>URL</th>\n      <th>Text</th>\n    </tr>\n  </thead>\n  <tbody>\n    <tr>\n      <th>0</th>\n      <td>2020/01/01</td>\n      <td>Why Would Elizabeth Warren Want More Banks?</td>\n      <td>Commentary</td>\n      <td>https://www.wsj.com/articles/why-would-elizabe...</td>\n      <td>America is losing too many banks, according to...</td>\n    </tr>\n    <tr>\n      <th>1</th>\n      <td>2020/01/01</td>\n      <td>‘Hate Crime’ Is Only a Step Away From Thoughtc...</td>\n      <td>Commentary</td>\n      <td>https://www.wsj.com/articles/hate-crime-is-onl...</td>\n      <td>Does it make sense that a person can burn an A...</td>\n    </tr>\n    <tr>\n      <th>2</th>\n      <td>2020/01/01</td>\n      <td>Latin America’s ‘Oasis’ Descends Into Chaos</td>\n      <td>Commentary</td>\n      <td>https://www.wsj.com/articles/latin-americas-oa...</td>\n      <td>Chile—Latin America’s freest, most stable and ...</td>\n    </tr>\n    <tr>\n      <th>3</th>\n      <td>2020/01/01</td>\n      <td>Gertrude Himmelfarb</td>\n      <td>Review &amp; Outlook</td>\n      <td>https://www.wsj.com/articles/gertrude-himmelfa...</td>\n      <td>She was an accomplished historian known for ri...</td>\n    </tr>\n    <tr>\n      <th>4</th>\n      <td>2020/01/02</td>\n      <td>Warren Zevon’s Wisdom for the 2020s</td>\n      <td>Declarations</td>\n      <td>https://www.wsj.com/articles/warren-zevons-wis...</td>\n      <td>I bumped into a great artist on the morning of...</td>\n    </tr>\n  </tbody>\n</table>\n</div>"
     },
     "execution_count": 16,
     "metadata": {},
     "output_type": "execute_result"
    }
   ],
   "source": [
    "originalWSJ.head()"
   ],
   "metadata": {
    "collapsed": false,
    "pycharm": {
     "name": "#%%\n"
    }
   }
  },
  {
   "cell_type": "code",
   "execution_count": 17,
   "outputs": [
    {
     "data": {
      "text/plain": "                                            Headline  \\\n0  A very American story about capitalism consumi...   \n1  We don’t need any more novels or TV shows abou...   \n2  Mitch McConnell has a tricky needle to thread.txt   \n3  Residents are nervous and exhausted It’s not t...   \n4  Here are seven reasons your “coronavirus party...   \n\n                                                Text  \n0  Why is the United States running out of face m...  \n1  It’s happening again. It took a fraudulent 911...  \n2  Mitch McConnell, the Senate majority leader, d...  \n3  Gov. Andrew Cuomo and Mayor Bill de Blasio hav...  \n4  As the coronavirus continues to spread, epidem...  ",
      "text/html": "<div>\n<style scoped>\n    .dataframe tbody tr th:only-of-type {\n        vertical-align: middle;\n    }\n\n    .dataframe tbody tr th {\n        vertical-align: top;\n    }\n\n    .dataframe thead th {\n        text-align: right;\n    }\n</style>\n<table border=\"1\" class=\"dataframe\">\n  <thead>\n    <tr style=\"text-align: right;\">\n      <th></th>\n      <th>Headline</th>\n      <th>Text</th>\n    </tr>\n  </thead>\n  <tbody>\n    <tr>\n      <th>0</th>\n      <td>A very American story about capitalism consumi...</td>\n      <td>Why is the United States running out of face m...</td>\n    </tr>\n    <tr>\n      <th>1</th>\n      <td>We don’t need any more novels or TV shows abou...</td>\n      <td>It’s happening again. It took a fraudulent 911...</td>\n    </tr>\n    <tr>\n      <th>2</th>\n      <td>Mitch McConnell has a tricky needle to thread.txt</td>\n      <td>Mitch McConnell, the Senate majority leader, d...</td>\n    </tr>\n    <tr>\n      <th>3</th>\n      <td>Residents are nervous and exhausted It’s not t...</td>\n      <td>Gov. Andrew Cuomo and Mayor Bill de Blasio hav...</td>\n    </tr>\n    <tr>\n      <th>4</th>\n      <td>Here are seven reasons your “coronavirus party...</td>\n      <td>As the coronavirus continues to spread, epidem...</td>\n    </tr>\n  </tbody>\n</table>\n</div>"
     },
     "execution_count": 17,
     "metadata": {},
     "output_type": "execute_result"
    }
   ],
   "source": [
    "originalNYT.head()"
   ],
   "metadata": {
    "collapsed": false,
    "pycharm": {
     "name": "#%%\n"
    }
   }
  },
  {
   "cell_type": "code",
   "execution_count": 18,
   "outputs": [],
   "source": [
    "subsetWSJ = originalWSJ.drop(columns=[\"Date\", \"Type\", \"URL\"])\n",
    "combination = originalNYT.append(subsetWSJ, ignore_index=True)\n"
   ],
   "metadata": {
    "collapsed": false,
    "pycharm": {
     "name": "#%%\n"
    }
   }
  },
  {
   "cell_type": "code",
   "execution_count": 25,
   "outputs": [],
   "source": [
    "sentencesNYT = originalNYT[\"Text\"]\n",
    "textWSJ = originalWSJ[\"Text\"].values.tolist()\n",
    "sentencesWSJ = [t.split('\\n')[0] for t in textWSJ]\n",
    "sentences = combination[\"Text\"]"
   ],
   "metadata": {
    "collapsed": false,
    "pycharm": {
     "name": "#%%\n"
    }
   }
  },
  {
   "cell_type": "code",
   "execution_count": 26,
   "outputs": [
    {
     "data": {
      "text/plain": "                                            Headline  \\\n0  A very American story about capitalism consumi...   \n1  We don’t need any more novels or TV shows abou...   \n2  Mitch McConnell has a tricky needle to thread.txt   \n3  Residents are nervous and exhausted It’s not t...   \n4  Here are seven reasons your “coronavirus party...   \n\n                                                Text  \n0  Why is the United States running out of face m...  \n1  It’s happening again. It took a fraudulent 911...  \n2  Mitch McConnell, the Senate majority leader, d...  \n3  Gov. Andrew Cuomo and Mayor Bill de Blasio hav...  \n4  As the coronavirus continues to spread, epidem...  ",
      "text/html": "<div>\n<style scoped>\n    .dataframe tbody tr th:only-of-type {\n        vertical-align: middle;\n    }\n\n    .dataframe tbody tr th {\n        vertical-align: top;\n    }\n\n    .dataframe thead th {\n        text-align: right;\n    }\n</style>\n<table border=\"1\" class=\"dataframe\">\n  <thead>\n    <tr style=\"text-align: right;\">\n      <th></th>\n      <th>Headline</th>\n      <th>Text</th>\n    </tr>\n  </thead>\n  <tbody>\n    <tr>\n      <th>0</th>\n      <td>A very American story about capitalism consumi...</td>\n      <td>Why is the United States running out of face m...</td>\n    </tr>\n    <tr>\n      <th>1</th>\n      <td>We don’t need any more novels or TV shows abou...</td>\n      <td>It’s happening again. It took a fraudulent 911...</td>\n    </tr>\n    <tr>\n      <th>2</th>\n      <td>Mitch McConnell has a tricky needle to thread.txt</td>\n      <td>Mitch McConnell, the Senate majority leader, d...</td>\n    </tr>\n    <tr>\n      <th>3</th>\n      <td>Residents are nervous and exhausted It’s not t...</td>\n      <td>Gov. Andrew Cuomo and Mayor Bill de Blasio hav...</td>\n    </tr>\n    <tr>\n      <th>4</th>\n      <td>Here are seven reasons your “coronavirus party...</td>\n      <td>As the coronavirus continues to spread, epidem...</td>\n    </tr>\n  </tbody>\n</table>\n</div>"
     },
     "execution_count": 26,
     "metadata": {},
     "output_type": "execute_result"
    }
   ],
   "source": [
    "combination.head()"
   ],
   "metadata": {
    "collapsed": false,
    "pycharm": {
     "name": "#%%\n"
    }
   }
  },
  {
   "cell_type": "code",
   "execution_count": 27,
   "outputs": [],
   "source": [
    "trainWSJ = [little_mallet_wrapper.process_string(text) for text in sentencesWSJ]\n",
    "trainNYT = [little_mallet_wrapper.process_string(text) for text in sentencesNYT]\n",
    "train = [little_mallet_wrapper.process_string(text) for text in sentences]\n"
   ],
   "metadata": {
    "collapsed": false,
    "pycharm": {
     "name": "#%%\n"
    }
   }
  },
  {
   "cell_type": "code",
   "execution_count": 141,
   "outputs": [],
   "source": [
    "path_to_mallet = 'C:/mallet-2.0.8/bin/mallet'\n",
    "training_data = train\n",
    "\n",
    "#Change to your desired output directory\n",
    "output_directory_path = './topic-model-outputs/' + output_suffix\n",
    "\n",
    "#No need to change anything below here\n",
    "Path(f\"{output_directory_path}\").mkdir(parents=True, exist_ok=True)\n",
    "\n",
    "path_to_training_data           = f\"{output_directory_path}/training.txt\"\n",
    "path_to_formatted_training_data = f\"{output_directory_path}/mallet.training\"\n",
    "path_to_model                   = f\"{output_directory_path}/mallet.model.{str(num_topics)}\"\n",
    "path_to_topic_keys              = f\"{output_directory_path}/mallet.topic_keys.{str(num_topics)}\"\n",
    "path_to_topic_distributions     = f\"{output_directory_path}/{str(num_topics)}\""
   ],
   "metadata": {
    "collapsed": false,
    "pycharm": {
     "name": "#%%\n"
    }
   }
  },
  {
   "cell_type": "code",
   "execution_count": 142,
   "outputs": [
    {
     "name": "stdout",
     "output_type": "stream",
     "text": [
      "Importing data...\n",
      "Complete\n"
     ]
    }
   ],
   "source": [
    "#Importing Data\n",
    "little_mallet_wrapper.import_data(path_to_mallet,\n",
    "                path_to_training_data,\n",
    "                path_to_formatted_training_data,\n",
    "                training_data)"
   ],
   "metadata": {
    "collapsed": false,
    "pycharm": {
     "name": "#%%\n"
    }
   }
  },
  {
   "cell_type": "code",
   "execution_count": 143,
   "outputs": [
    {
     "name": "stdout",
     "output_type": "stream",
     "text": [
      "Training topic model...\n",
      "Complete\n"
     ]
    }
   ],
   "source": [
    "#Training Data\n",
    "little_mallet_wrapper.train_topic_model(path_to_mallet,\n",
    "                      path_to_formatted_training_data,\n",
    "                      path_to_model,\n",
    "                      path_to_topic_keys,\n",
    "                      path_to_topic_distributions,\n",
    "                      num_topics)"
   ],
   "metadata": {
    "collapsed": false,
    "pycharm": {
     "name": "#%%\n"
    }
   }
  },
  {
   "cell_type": "code",
   "execution_count": 144,
   "outputs": [
    {
     "data": {
      "text/plain": "           0         1         2          3               4              5  \\\n0      world  pandemic    crisis   economic          global    coronavirus   \n1        NUM       fed      debt  financial           banks       treasury   \n2  companies  business   company        new  administration          rules   \n3      black     white  american     racial             NUM        america   \n4        NUM       fbi     trump    general      department  investigation   \n\n           6          7           8             9        10         11  \\\n0  countries    america  government       economy  response  president   \n1      loans     market     economy         money      bank   interest   \n2        one  financial    services    government      rule    private   \n3       race  americans      racism       history    people  diversity   \n4     former    justice    attorney  intelligence      barr   evidence   \n\n        12             13         14       15       16         17         18  \\\n0   mexico  international   national  country     like      power      could   \n1  federal        markets      rates  reserve   credit    central     crisis   \n2     data      investors  corporate   market     must       make     social   \n3    women         blacks   identity  country  culture     racist    justice   \n4     case       campaign      flynn   report  russian  officials  president   \n\n          19  \n0     health  \n1     policy  \n2  copyright  \n3        men  \n4     russia  ",
      "text/html": "<div>\n<style scoped>\n    .dataframe tbody tr th:only-of-type {\n        vertical-align: middle;\n    }\n\n    .dataframe tbody tr th {\n        vertical-align: top;\n    }\n\n    .dataframe thead th {\n        text-align: right;\n    }\n</style>\n<table border=\"1\" class=\"dataframe\">\n  <thead>\n    <tr style=\"text-align: right;\">\n      <th></th>\n      <th>0</th>\n      <th>1</th>\n      <th>2</th>\n      <th>3</th>\n      <th>4</th>\n      <th>5</th>\n      <th>6</th>\n      <th>7</th>\n      <th>8</th>\n      <th>9</th>\n      <th>10</th>\n      <th>11</th>\n      <th>12</th>\n      <th>13</th>\n      <th>14</th>\n      <th>15</th>\n      <th>16</th>\n      <th>17</th>\n      <th>18</th>\n      <th>19</th>\n    </tr>\n  </thead>\n  <tbody>\n    <tr>\n      <th>0</th>\n      <td>world</td>\n      <td>pandemic</td>\n      <td>crisis</td>\n      <td>economic</td>\n      <td>global</td>\n      <td>coronavirus</td>\n      <td>countries</td>\n      <td>america</td>\n      <td>government</td>\n      <td>economy</td>\n      <td>response</td>\n      <td>president</td>\n      <td>mexico</td>\n      <td>international</td>\n      <td>national</td>\n      <td>country</td>\n      <td>like</td>\n      <td>power</td>\n      <td>could</td>\n      <td>health</td>\n    </tr>\n    <tr>\n      <th>1</th>\n      <td>NUM</td>\n      <td>fed</td>\n      <td>debt</td>\n      <td>financial</td>\n      <td>banks</td>\n      <td>treasury</td>\n      <td>loans</td>\n      <td>market</td>\n      <td>economy</td>\n      <td>money</td>\n      <td>bank</td>\n      <td>interest</td>\n      <td>federal</td>\n      <td>markets</td>\n      <td>rates</td>\n      <td>reserve</td>\n      <td>credit</td>\n      <td>central</td>\n      <td>crisis</td>\n      <td>policy</td>\n    </tr>\n    <tr>\n      <th>2</th>\n      <td>companies</td>\n      <td>business</td>\n      <td>company</td>\n      <td>new</td>\n      <td>administration</td>\n      <td>rules</td>\n      <td>one</td>\n      <td>financial</td>\n      <td>services</td>\n      <td>government</td>\n      <td>rule</td>\n      <td>private</td>\n      <td>data</td>\n      <td>investors</td>\n      <td>corporate</td>\n      <td>market</td>\n      <td>must</td>\n      <td>make</td>\n      <td>social</td>\n      <td>copyright</td>\n    </tr>\n    <tr>\n      <th>3</th>\n      <td>black</td>\n      <td>white</td>\n      <td>american</td>\n      <td>racial</td>\n      <td>NUM</td>\n      <td>america</td>\n      <td>race</td>\n      <td>americans</td>\n      <td>racism</td>\n      <td>history</td>\n      <td>people</td>\n      <td>diversity</td>\n      <td>women</td>\n      <td>blacks</td>\n      <td>identity</td>\n      <td>country</td>\n      <td>culture</td>\n      <td>racist</td>\n      <td>justice</td>\n      <td>men</td>\n    </tr>\n    <tr>\n      <th>4</th>\n      <td>NUM</td>\n      <td>fbi</td>\n      <td>trump</td>\n      <td>general</td>\n      <td>department</td>\n      <td>investigation</td>\n      <td>former</td>\n      <td>justice</td>\n      <td>attorney</td>\n      <td>intelligence</td>\n      <td>barr</td>\n      <td>evidence</td>\n      <td>case</td>\n      <td>campaign</td>\n      <td>flynn</td>\n      <td>report</td>\n      <td>russian</td>\n      <td>officials</td>\n      <td>president</td>\n      <td>russia</td>\n    </tr>\n  </tbody>\n</table>\n</div>"
     },
     "execution_count": 144,
     "metadata": {},
     "output_type": "execute_result"
    }
   ],
   "source": [
    "topics = little_mallet_wrapper.load_topic_keys(path_to_topic_keys)\n",
    "topicsDF = pd.DataFrame(topics)\n",
    "topicsDF.head()"
   ],
   "metadata": {
    "collapsed": false,
    "pycharm": {
     "name": "#%%\n"
    }
   }
  },
  {
   "cell_type": "code",
   "execution_count": 145,
   "outputs": [],
   "source": [
    "topicsDF.to_csv('./results/' + output_suffix + '-topics.csv', index=False)\n"
   ],
   "metadata": {
    "collapsed": false,
    "pycharm": {
     "name": "#%%\n"
    }
   }
  },
  {
   "cell_type": "code",
   "execution_count": 109,
   "outputs": [],
   "source": [],
   "metadata": {
    "collapsed": false,
    "pycharm": {
     "name": "#%%\n"
    }
   }
  },
  {
   "cell_type": "code",
   "execution_count": null,
   "outputs": [],
   "source": [
    "\n"
   ],
   "metadata": {
    "collapsed": false,
    "pycharm": {
     "name": "#%%\n"
    }
   }
  }
 ],
 "metadata": {
  "kernelspec": {
   "display_name": "Python 3",
   "language": "python",
   "name": "python3"
  },
  "language_info": {
   "codemirror_mode": {
    "name": "ipython",
    "version": 2
   },
   "file_extension": ".py",
   "mimetype": "text/x-python",
   "name": "python",
   "nbconvert_exporter": "python",
   "pygments_lexer": "ipython2",
   "version": "2.7.6"
  }
 },
 "nbformat": 4,
 "nbformat_minor": 0
}