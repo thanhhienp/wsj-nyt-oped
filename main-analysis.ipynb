{
 "cells": [
  {
   "cell_type": "markdown",
   "source": [
    "# Analyzing prominent topics in NYT and WSJ opinion articles"
   ],
   "metadata": {
    "collapsed": false,
    "pycharm": {
     "name": "#%% md\n"
    }
   }
  },
  {
   "cell_type": "markdown",
   "source": [
    "## Part 1: Training topic models\n",
    "This notebook uses data that has already been scraped and placed into their appropriate folders in `./NYTimes` and `./WSJournal`\n",
    "\n",
    "Topics from this part are saved to `results`, and the topic model outputs are saved to `topic-model-outputs`."
   ],
   "metadata": {
    "collapsed": false,
    "pycharm": {
     "name": "#%% md\n"
    }
   }
  },
  {
   "cell_type": "code",
   "execution_count": 1,
   "metadata": {
    "collapsed": true
   },
   "outputs": [],
   "source": [
    "import pandas as pd\n",
    "import re\n",
    "from collections import Counter\n",
    "import little_mallet_wrapper\n",
    "from pathlib import Path\n",
    "import datetime\n",
    "import glob\n",
    "import os"
   ]
  },
  {
   "cell_type": "code",
   "execution_count": 41,
   "outputs": [],
   "source": [
    "# Change number of topics & suffix name for the model\n",
    "num_topics = 30\n",
    "output_suffix = 'all-30'"
   ],
   "metadata": {
    "collapsed": false,
    "pycharm": {
     "name": "#%%\n"
    }
   }
  },
  {
   "cell_type": "code",
   "execution_count": 4,
   "outputs": [],
   "source": [
    "# Importing WSJ data\n",
    "filePath = \"./WSJournal/scraped-wsj-data/WSJ_2020-1-1_2020-12-31.csv\"\n",
    "originalWSJ = pd.read_csv(filePath)\n",
    "# Importing NYT data\n",
    "fileLocation = \"./NYTimes/articles.csv\"\n",
    "originalNYT = pd.read_csv(fileLocation)\n",
    "originalNYT = originalNYT.rename(columns={\"Headline\": \"Headline\", \"text\": \"Text\"})"
   ],
   "metadata": {
    "collapsed": false,
    "pycharm": {
     "name": "#%%\n"
    }
   }
  },
  {
   "cell_type": "code",
   "execution_count": 5,
   "outputs": [
    {
     "data": {
      "text/plain": "         Date                                           Headline  \\\n0  2020/01/01        Why Would Elizabeth Warren Want More Banks?   \n1  2020/01/01  ‘Hate Crime’ Is Only a Step Away From Thoughtc...   \n2  2020/01/01        Latin America’s ‘Oasis’ Descends Into Chaos   \n3  2020/01/01                                Gertrude Himmelfarb   \n4  2020/01/02                Warren Zevon’s Wisdom for the 2020s   \n\n               Type                                                URL  \\\n0        Commentary  https://www.wsj.com/articles/why-would-elizabe...   \n1        Commentary  https://www.wsj.com/articles/hate-crime-is-onl...   \n2        Commentary  https://www.wsj.com/articles/latin-americas-oa...   \n3  Review & Outlook  https://www.wsj.com/articles/gertrude-himmelfa...   \n4      Declarations  https://www.wsj.com/articles/warren-zevons-wis...   \n\n                                                Text  \n0  America is losing too many banks, according to...  \n1  Does it make sense that a person can burn an A...  \n2  Chile—Latin America’s freest, most stable and ...  \n3  She was an accomplished historian known for ri...  \n4  I bumped into a great artist on the morning of...  ",
      "text/html": "<div>\n<style scoped>\n    .dataframe tbody tr th:only-of-type {\n        vertical-align: middle;\n    }\n\n    .dataframe tbody tr th {\n        vertical-align: top;\n    }\n\n    .dataframe thead th {\n        text-align: right;\n    }\n</style>\n<table border=\"1\" class=\"dataframe\">\n  <thead>\n    <tr style=\"text-align: right;\">\n      <th></th>\n      <th>Date</th>\n      <th>Headline</th>\n      <th>Type</th>\n      <th>URL</th>\n      <th>Text</th>\n    </tr>\n  </thead>\n  <tbody>\n    <tr>\n      <th>0</th>\n      <td>2020/01/01</td>\n      <td>Why Would Elizabeth Warren Want More Banks?</td>\n      <td>Commentary</td>\n      <td>https://www.wsj.com/articles/why-would-elizabe...</td>\n      <td>America is losing too many banks, according to...</td>\n    </tr>\n    <tr>\n      <th>1</th>\n      <td>2020/01/01</td>\n      <td>‘Hate Crime’ Is Only a Step Away From Thoughtc...</td>\n      <td>Commentary</td>\n      <td>https://www.wsj.com/articles/hate-crime-is-onl...</td>\n      <td>Does it make sense that a person can burn an A...</td>\n    </tr>\n    <tr>\n      <th>2</th>\n      <td>2020/01/01</td>\n      <td>Latin America’s ‘Oasis’ Descends Into Chaos</td>\n      <td>Commentary</td>\n      <td>https://www.wsj.com/articles/latin-americas-oa...</td>\n      <td>Chile—Latin America’s freest, most stable and ...</td>\n    </tr>\n    <tr>\n      <th>3</th>\n      <td>2020/01/01</td>\n      <td>Gertrude Himmelfarb</td>\n      <td>Review &amp; Outlook</td>\n      <td>https://www.wsj.com/articles/gertrude-himmelfa...</td>\n      <td>She was an accomplished historian known for ri...</td>\n    </tr>\n    <tr>\n      <th>4</th>\n      <td>2020/01/02</td>\n      <td>Warren Zevon’s Wisdom for the 2020s</td>\n      <td>Declarations</td>\n      <td>https://www.wsj.com/articles/warren-zevons-wis...</td>\n      <td>I bumped into a great artist on the morning of...</td>\n    </tr>\n  </tbody>\n</table>\n</div>"
     },
     "execution_count": 5,
     "metadata": {},
     "output_type": "execute_result"
    }
   ],
   "source": [
    "# Preview imported data\n",
    "originalWSJ.head()"
   ],
   "metadata": {
    "collapsed": false,
    "pycharm": {
     "name": "#%%\n"
    }
   }
  },
  {
   "cell_type": "code",
   "execution_count": 6,
   "outputs": [
    {
     "data": {
      "text/plain": "                                            Headline  \\\n0  A very American story about capitalism consumi...   \n1  We don’t need any more novels or TV shows abou...   \n2  Mitch McConnell has a tricky needle to thread.txt   \n3  Residents are nervous and exhausted It’s not t...   \n4  Here are seven reasons your “coronavirus party...   \n\n                                                Text  \n0  Why is the United States running out of face m...  \n1  It’s happening again. It took a fraudulent 911...  \n2  Mitch McConnell, the Senate majority leader, d...  \n3  Gov. Andrew Cuomo and Mayor Bill de Blasio hav...  \n4  As the coronavirus continues to spread, epidem...  ",
      "text/html": "<div>\n<style scoped>\n    .dataframe tbody tr th:only-of-type {\n        vertical-align: middle;\n    }\n\n    .dataframe tbody tr th {\n        vertical-align: top;\n    }\n\n    .dataframe thead th {\n        text-align: right;\n    }\n</style>\n<table border=\"1\" class=\"dataframe\">\n  <thead>\n    <tr style=\"text-align: right;\">\n      <th></th>\n      <th>Headline</th>\n      <th>Text</th>\n    </tr>\n  </thead>\n  <tbody>\n    <tr>\n      <th>0</th>\n      <td>A very American story about capitalism consumi...</td>\n      <td>Why is the United States running out of face m...</td>\n    </tr>\n    <tr>\n      <th>1</th>\n      <td>We don’t need any more novels or TV shows abou...</td>\n      <td>It’s happening again. It took a fraudulent 911...</td>\n    </tr>\n    <tr>\n      <th>2</th>\n      <td>Mitch McConnell has a tricky needle to thread.txt</td>\n      <td>Mitch McConnell, the Senate majority leader, d...</td>\n    </tr>\n    <tr>\n      <th>3</th>\n      <td>Residents are nervous and exhausted It’s not t...</td>\n      <td>Gov. Andrew Cuomo and Mayor Bill de Blasio hav...</td>\n    </tr>\n    <tr>\n      <th>4</th>\n      <td>Here are seven reasons your “coronavirus party...</td>\n      <td>As the coronavirus continues to spread, epidem...</td>\n    </tr>\n  </tbody>\n</table>\n</div>"
     },
     "execution_count": 6,
     "metadata": {},
     "output_type": "execute_result"
    }
   ],
   "source": [
    "originalNYT.head()"
   ],
   "metadata": {
    "collapsed": false,
    "pycharm": {
     "name": "#%%\n"
    }
   }
  },
  {
   "cell_type": "code",
   "execution_count": 7,
   "outputs": [],
   "source": [
    "# Retrieve sentences (from first paragraphs in articles) that can be used for training\n",
    "sentencesNYT = originalNYT[\"Text\"]\n",
    "textWSJ = originalWSJ[\"Text\"].values.tolist()\n",
    "sentencesWSJ = [t.split('\\n')[0] for t in textWSJ]\n"
   ],
   "metadata": {
    "collapsed": false,
    "pycharm": {
     "name": "#%%\n"
    }
   }
  },
  {
   "cell_type": "code",
   "execution_count": 8,
   "outputs": [
    {
     "data": {
      "text/plain": "                                            Headline  \\\n0  A very American story about capitalism consumi...   \n1  We don’t need any more novels or TV shows abou...   \n2  Mitch McConnell has a tricky needle to thread.txt   \n3  Residents are nervous and exhausted It’s not t...   \n4  Here are seven reasons your “coronavirus party...   \n\n                                                Text Source  \n0  Why is the United States running out of face m...    NYT  \n1  It’s happening again. It took a fraudulent 911...    NYT  \n2  Mitch McConnell, the Senate majority leader, d...    NYT  \n3  Gov. Andrew Cuomo and Mayor Bill de Blasio hav...    NYT  \n4  As the coronavirus continues to spread, epidem...    NYT  ",
      "text/html": "<div>\n<style scoped>\n    .dataframe tbody tr th:only-of-type {\n        vertical-align: middle;\n    }\n\n    .dataframe tbody tr th {\n        vertical-align: top;\n    }\n\n    .dataframe thead th {\n        text-align: right;\n    }\n</style>\n<table border=\"1\" class=\"dataframe\">\n  <thead>\n    <tr style=\"text-align: right;\">\n      <th></th>\n      <th>Headline</th>\n      <th>Text</th>\n      <th>Source</th>\n    </tr>\n  </thead>\n  <tbody>\n    <tr>\n      <th>0</th>\n      <td>A very American story about capitalism consumi...</td>\n      <td>Why is the United States running out of face m...</td>\n      <td>NYT</td>\n    </tr>\n    <tr>\n      <th>1</th>\n      <td>We don’t need any more novels or TV shows abou...</td>\n      <td>It’s happening again. It took a fraudulent 911...</td>\n      <td>NYT</td>\n    </tr>\n    <tr>\n      <th>2</th>\n      <td>Mitch McConnell has a tricky needle to thread.txt</td>\n      <td>Mitch McConnell, the Senate majority leader, d...</td>\n      <td>NYT</td>\n    </tr>\n    <tr>\n      <th>3</th>\n      <td>Residents are nervous and exhausted It’s not t...</td>\n      <td>Gov. Andrew Cuomo and Mayor Bill de Blasio hav...</td>\n      <td>NYT</td>\n    </tr>\n    <tr>\n      <th>4</th>\n      <td>Here are seven reasons your “coronavirus party...</td>\n      <td>As the coronavirus continues to spread, epidem...</td>\n      <td>NYT</td>\n    </tr>\n  </tbody>\n</table>\n</div>"
     },
     "execution_count": 8,
     "metadata": {},
     "output_type": "execute_result"
    }
   ],
   "source": [
    "# Merging the corpus of NYT and WSJ to create a combined corpus\n",
    "subsetWSJ = pd.DataFrame(zip(originalWSJ[\"Headline\"], sentencesWSJ), columns=['Headline', 'Text'])\n",
    "subsetNYT = originalNYT.copy(deep=True)\n",
    "subsetNYT[\"Source\"] = 'NYT'\n",
    "subsetWSJ[\"Source\"] = 'WSJ'\n",
    "combination = subsetNYT.append(subsetWSJ, ignore_index=True)\n",
    "sentences = combination[\"Text\"]\n",
    "combination.head()"
   ],
   "metadata": {
    "collapsed": false,
    "pycharm": {
     "name": "#%%\n"
    }
   }
  },
  {
   "cell_type": "code",
   "execution_count": 9,
   "outputs": [],
   "source": [
    "trainWSJ = [little_mallet_wrapper.process_string(text) for text in sentencesWSJ]\n",
    "trainNYT = [little_mallet_wrapper.process_string(text) for text in sentencesNYT]\n",
    "train = [little_mallet_wrapper.process_string(text) for text in sentences]\n"
   ],
   "metadata": {
    "collapsed": false,
    "pycharm": {
     "name": "#%%\n"
    }
   }
  },
  {
   "cell_type": "code",
   "execution_count": 32,
   "outputs": [],
   "source": [
    "path_to_mallet = 'C:/mallet-2.0.8/bin/mallet'\n",
    "training_data = train\n",
    "\n",
    "#Change to your desired output directory\n",
    "output_directory_path = './topic-model-outputs/' + output_suffix\n",
    "\n",
    "#No need to change anything below here\n",
    "Path(f\"{output_directory_path}\").mkdir(parents=True, exist_ok=True)\n",
    "\n",
    "path_to_training_data           = f\"{output_directory_path}/training.txt\"\n",
    "path_to_formatted_training_data = f\"{output_directory_path}/mallet.training\"\n",
    "path_to_model                   = f\"{output_directory_path}/mallet.model.{str(num_topics)}\"\n",
    "path_to_topic_keys              = f\"{output_directory_path}/mallet.topic_keys.{str(num_topics)}\"\n",
    "path_to_topic_distributions     = f\"{output_directory_path}/{str(num_topics)}\""
   ],
   "metadata": {
    "collapsed": false,
    "pycharm": {
     "name": "#%%\n"
    }
   }
  },
  {
   "cell_type": "code",
   "execution_count": 42,
   "outputs": [
    {
     "name": "stdout",
     "output_type": "stream",
     "text": [
      "Importing data...\n",
      "Complete\n"
     ]
    }
   ],
   "source": [
    "#Importing Data\n",
    "little_mallet_wrapper.import_data(path_to_mallet,\n",
    "                path_to_training_data,\n",
    "                path_to_formatted_training_data,\n",
    "                training_data)"
   ],
   "metadata": {
    "collapsed": false,
    "pycharm": {
     "name": "#%%\n"
    }
   }
  },
  {
   "cell_type": "code",
   "execution_count": 43,
   "outputs": [
    {
     "name": "stdout",
     "output_type": "stream",
     "text": [
      "Training topic model...\n",
      "Complete\n"
     ]
    }
   ],
   "source": [
    "#Training Data\n",
    "little_mallet_wrapper.train_topic_model(path_to_mallet,\n",
    "                      path_to_formatted_training_data,\n",
    "                      path_to_model,\n",
    "                      path_to_topic_keys,\n",
    "                      path_to_topic_distributions,\n",
    "                      num_topics)"
   ],
   "metadata": {
    "collapsed": false,
    "pycharm": {
     "name": "#%%\n"
    }
   }
  },
  {
   "cell_type": "code",
   "execution_count": 44,
   "outputs": [
    {
     "data": {
      "text/plain": "             0         1        2             3           4          5  \\\n0          NUM  students     next    university      future       week   \n1       people      like     even     political         way       want   \n2      country       oil  climate        energy  california     change   \n3  coronavirus     world    china      pandemic      crisis     global   \n4   democratic     party  sanders  presidential      bernie  political   \n\n          6         7        8           9         10         11         12  \\\n0      best       ask  college       night      words       view       note   \n1      time      make     know         get      think      might       need   \n2  policies       gas     move        bret       gail  including        new   \n3   chinese      hong     kong     beijing    america   economic      covid   \n4   tuesday  campaign  primary  nomination  democrats  bloomberg  candidate   \n\n          13         14         15          16         17      18      19  \n0  published      fewer  responses   education   opinions  editor  submit  \n1       seem      media      often    american      right    good   doesn  \n2    natural   industry      power        plan     recent    good     put  \n3      virus  democracy     health  leadership  americans     may     war  \n4     debate        win       left     clinton      would  voters    iowa  ",
      "text/html": "<div>\n<style scoped>\n    .dataframe tbody tr th:only-of-type {\n        vertical-align: middle;\n    }\n\n    .dataframe tbody tr th {\n        vertical-align: top;\n    }\n\n    .dataframe thead th {\n        text-align: right;\n    }\n</style>\n<table border=\"1\" class=\"dataframe\">\n  <thead>\n    <tr style=\"text-align: right;\">\n      <th></th>\n      <th>0</th>\n      <th>1</th>\n      <th>2</th>\n      <th>3</th>\n      <th>4</th>\n      <th>5</th>\n      <th>6</th>\n      <th>7</th>\n      <th>8</th>\n      <th>9</th>\n      <th>10</th>\n      <th>11</th>\n      <th>12</th>\n      <th>13</th>\n      <th>14</th>\n      <th>15</th>\n      <th>16</th>\n      <th>17</th>\n      <th>18</th>\n      <th>19</th>\n    </tr>\n  </thead>\n  <tbody>\n    <tr>\n      <th>0</th>\n      <td>NUM</td>\n      <td>students</td>\n      <td>next</td>\n      <td>university</td>\n      <td>future</td>\n      <td>week</td>\n      <td>best</td>\n      <td>ask</td>\n      <td>college</td>\n      <td>night</td>\n      <td>words</td>\n      <td>view</td>\n      <td>note</td>\n      <td>published</td>\n      <td>fewer</td>\n      <td>responses</td>\n      <td>education</td>\n      <td>opinions</td>\n      <td>editor</td>\n      <td>submit</td>\n    </tr>\n    <tr>\n      <th>1</th>\n      <td>people</td>\n      <td>like</td>\n      <td>even</td>\n      <td>political</td>\n      <td>way</td>\n      <td>want</td>\n      <td>time</td>\n      <td>make</td>\n      <td>know</td>\n      <td>get</td>\n      <td>think</td>\n      <td>might</td>\n      <td>need</td>\n      <td>seem</td>\n      <td>media</td>\n      <td>often</td>\n      <td>american</td>\n      <td>right</td>\n      <td>good</td>\n      <td>doesn</td>\n    </tr>\n    <tr>\n      <th>2</th>\n      <td>country</td>\n      <td>oil</td>\n      <td>climate</td>\n      <td>energy</td>\n      <td>california</td>\n      <td>change</td>\n      <td>policies</td>\n      <td>gas</td>\n      <td>move</td>\n      <td>bret</td>\n      <td>gail</td>\n      <td>including</td>\n      <td>new</td>\n      <td>natural</td>\n      <td>industry</td>\n      <td>power</td>\n      <td>plan</td>\n      <td>recent</td>\n      <td>good</td>\n      <td>put</td>\n    </tr>\n    <tr>\n      <th>3</th>\n      <td>coronavirus</td>\n      <td>world</td>\n      <td>china</td>\n      <td>pandemic</td>\n      <td>crisis</td>\n      <td>global</td>\n      <td>chinese</td>\n      <td>hong</td>\n      <td>kong</td>\n      <td>beijing</td>\n      <td>america</td>\n      <td>economic</td>\n      <td>covid</td>\n      <td>virus</td>\n      <td>democracy</td>\n      <td>health</td>\n      <td>leadership</td>\n      <td>americans</td>\n      <td>may</td>\n      <td>war</td>\n    </tr>\n    <tr>\n      <th>4</th>\n      <td>democratic</td>\n      <td>party</td>\n      <td>sanders</td>\n      <td>presidential</td>\n      <td>bernie</td>\n      <td>political</td>\n      <td>tuesday</td>\n      <td>campaign</td>\n      <td>primary</td>\n      <td>nomination</td>\n      <td>democrats</td>\n      <td>bloomberg</td>\n      <td>candidate</td>\n      <td>debate</td>\n      <td>win</td>\n      <td>left</td>\n      <td>clinton</td>\n      <td>would</td>\n      <td>voters</td>\n      <td>iowa</td>\n    </tr>\n  </tbody>\n</table>\n</div>"
     },
     "execution_count": 44,
     "metadata": {},
     "output_type": "execute_result"
    }
   ],
   "source": [
    "# Preview topics\n",
    "topics = little_mallet_wrapper.load_topic_keys(path_to_topic_keys)\n",
    "topicsDF = pd.DataFrame(topics)\n",
    "topicsDF.head()"
   ],
   "metadata": {
    "collapsed": false,
    "pycharm": {
     "name": "#%%\n"
    }
   }
  },
  {
   "cell_type": "code",
   "execution_count": 45,
   "outputs": [],
   "source": [
    "# save the generated topics. uncomment to run\n",
    "topicsDF.to_csv('./results/' + output_suffix + '-topics.csv', index=False)"
   ],
   "metadata": {
    "collapsed": false,
    "pycharm": {
     "name": "#%%\n"
    }
   }
  },
  {
   "cell_type": "markdown",
   "source": [
    "## Part 2: Visualization of data for analysis\n",
    "### Word clouds\n",
    "We'll attempt to make word clouds with the topics created, having the frequency of a word in the corpus reflected as its size."
   ],
   "metadata": {
    "collapsed": false,
    "pycharm": {
     "name": "#%% md\n"
    }
   }
  },
  {
   "cell_type": "code",
   "execution_count": 15,
   "outputs": [],
   "source": [
    "from collections import Counter\n",
    "import seaborn as sns\n",
    "import matplotlib.pyplot as plt\n",
    "import numpy as np\n",
    "from wordcloud import WordCloud, STOPWORDS, ImageColorGenerator\n",
    "import matplotlib.dates as dates\n",
    "%matplotlib inline"
   ],
   "metadata": {
    "collapsed": false,
    "pycharm": {
     "name": "#%%\n"
    }
   }
  },
  {
   "cell_type": "code",
   "execution_count": 160,
   "outputs": [],
   "source": [
    "# splitting text into all lowercase\n",
    "def split_into_words(any_chunk_of_text):\n",
    "    '''any_chunk_of_text: iterable of texts'''\n",
    "    lowercase_text = [s.lower() for s in any_chunk_of_text]\n",
    "    lowercase_text = ' '.join(lowercase_text)\n",
    "    split_words = re.split(\"\\W+\", lowercase_text)\n",
    "    return split_words\n"
   ],
   "metadata": {
    "collapsed": false,
    "pycharm": {
     "name": "#%%\n"
    }
   }
  },
  {
   "cell_type": "code",
   "execution_count": 161,
   "outputs": [],
   "source": [
    "# Retrieve frequency of words in topics\n",
    "def retrieve_frequency_dict(topic_terms, all_the_words):\n",
    "    investigated_words = [word for word in all_the_words if word in topic_terms]\n",
    "    return Counter(investigated_words)"
   ],
   "metadata": {
    "collapsed": false,
    "pycharm": {
     "name": "#%%\n"
    }
   }
  },
  {
   "cell_type": "code",
   "execution_count": 184,
   "outputs": [],
   "source": [
    "# Function to make wordcloud, from https://github.com/khuyentran1401/Data-science/blob/master/nlp/linkedin_analysis/message_analysis.ipynb\n",
    "def make_wordcloud(new_text, fig_name):\n",
    "    wordcloud = WordCloud(width = 800, height = 800,\n",
    "                min_font_size = 10,\n",
    "                background_color='black',\n",
    "                colormap='Set2',\n",
    "                collocations=False).generate_from_frequencies(new_text)\n",
    "\n",
    "    fig = plt.figure(figsize = (8, 8), facecolor = None)\n",
    "    plt.imshow(wordcloud, interpolation='bilinear')\n",
    "    plt.axis(\"off\")\n",
    "    plt.tight_layout(pad = 0)\n",
    "    plt.savefig('./wordclouds/' + fig_name + '.png', dpi=300, bbox_inches='tight')\n",
    "    plt.cla()\n",
    "    plt.close(fig)"
   ],
   "metadata": {
    "collapsed": false,
    "pycharm": {
     "name": "#%%\n"
    }
   }
  },
  {
   "cell_type": "code",
   "execution_count": 169,
   "outputs": [],
   "source": [
    "# Prepare data for wordclouds\n",
    "topicFiles = glob.glob(\"./results/*.csv\")\n",
    "wordsNYT = split_into_words(sentencesNYT)\n",
    "wordsWSJ = split_into_words(sentencesWSJ)\n",
    "words = split_into_words(sentences)"
   ],
   "metadata": {
    "collapsed": false,
    "pycharm": {
     "name": "#%%\n"
    }
   }
  },
  {
   "cell_type": "code",
   "execution_count": 187,
   "outputs": [],
   "source": [
    "# Iterate through topics and generate wordclouds\n",
    "for filename in topicFiles:\n",
    "    corpus = filename[10:13]\n",
    "    if corpus == 'all':\n",
    "        dataCloud = words\n",
    "    elif corpus == 'NYT':\n",
    "        continue\n",
    "        # dataCloud = wordsNYT\n",
    "    elif corpus == 'WSJ':\n",
    "        continue\n",
    "        # dataCloud = wordsWSJ\n",
    "    currTopics = pd.read_csv(filename)\n",
    "    for topicIdx in range(len(currTopics)):\n",
    "        currTopic = currTopics.iloc[topicIdx].values.tolist()\n",
    "        currDict = retrieve_frequency_dict(currTopic, dataCloud)\n",
    "        fig_name = filename[10:16] + '/' + str(topicIdx)\n",
    "        make_wordcloud(currDict, fig_name)"
   ],
   "metadata": {
    "collapsed": false,
    "pycharm": {
     "name": "#%%\n"
    }
   }
  },
  {
   "cell_type": "markdown",
   "source": [
    "## Topic distribution\n",
    "This attempts to investigate the distribution of topics in a combined corpus of both NYT & WSJ articles"
   ],
   "metadata": {
    "collapsed": false,
    "pycharm": {
     "name": "#%% md\n"
    }
   }
  },
  {
   "cell_type": "code",
   "execution_count": 46,
   "outputs": [],
   "source": [
    "topic_distributions = little_mallet_wrapper.load_topic_distributions(path_to_topic_distributions)\n",
    "train_with_source = dict(zip(training_data, combination[\"Source\"].values.tolist()))"
   ],
   "metadata": {
    "collapsed": false,
    "pycharm": {
     "name": "#%%\n"
    }
   }
  },
  {
   "cell_type": "code",
   "execution_count": 47,
   "outputs": [],
   "source": [
    "def source_distribution_per_topic(topic_number=0, number_of_documents=5):\n",
    "    sources = []\n",
    "    for probability, document in little_mallet_wrapper.get_top_docs(training_data, topic_distributions, topic_number, n=number_of_documents):\n",
    "        if probability >= 0.5:\n",
    "            sources.append(train_with_source[document])\n",
    "    count = Counter(sources)\n",
    "    return count"
   ],
   "metadata": {
    "collapsed": false,
    "pycharm": {
     "name": "#%%\n"
    }
   }
  },
  {
   "cell_type": "code",
   "execution_count": 48,
   "outputs": [],
   "source": [
    "topics_dict = {}\n",
    "for number in range(num_topics):\n",
    "    source_count = source_distribution_per_topic(number, len(combination))\n",
    "    wsj_count = source_count[\"WSJ\"]\n",
    "    nyt_count = source_count[\"NYT\"]\n",
    "    sum_count = wsj_count + nyt_count\n",
    "    if sum_count == 0:\n",
    "        topics_dict[number] = {\"WSJ\": 0, \"NYT\": 0}\n",
    "        continue\n",
    "    wsj_percent = wsj_count / sum_count\n",
    "    nyt_percent = nyt_count / sum_count\n",
    "    topics_dict[number] = {\"WSJ\": wsj_percent, \"NYT\": nyt_percent}\n"
   ],
   "metadata": {
    "collapsed": false,
    "pycharm": {
     "name": "#%%\n"
    }
   }
  },
  {
   "cell_type": "code",
   "execution_count": 49,
   "outputs": [
    {
     "data": {
      "text/plain": "        WSJ       NYT\n0  0.980392  0.019608\n1  0.500000  0.500000\n2  0.500000  0.500000\n3  0.583333  0.416667\n4  0.727273  0.272727",
      "text/html": "<div>\n<style scoped>\n    .dataframe tbody tr th:only-of-type {\n        vertical-align: middle;\n    }\n\n    .dataframe tbody tr th {\n        vertical-align: top;\n    }\n\n    .dataframe thead th {\n        text-align: right;\n    }\n</style>\n<table border=\"1\" class=\"dataframe\">\n  <thead>\n    <tr style=\"text-align: right;\">\n      <th></th>\n      <th>WSJ</th>\n      <th>NYT</th>\n    </tr>\n  </thead>\n  <tbody>\n    <tr>\n      <th>0</th>\n      <td>0.980392</td>\n      <td>0.019608</td>\n    </tr>\n    <tr>\n      <th>1</th>\n      <td>0.500000</td>\n      <td>0.500000</td>\n    </tr>\n    <tr>\n      <th>2</th>\n      <td>0.500000</td>\n      <td>0.500000</td>\n    </tr>\n    <tr>\n      <th>3</th>\n      <td>0.583333</td>\n      <td>0.416667</td>\n    </tr>\n    <tr>\n      <th>4</th>\n      <td>0.727273</td>\n      <td>0.272727</td>\n    </tr>\n  </tbody>\n</table>\n</div>"
     },
     "execution_count": 49,
     "metadata": {},
     "output_type": "execute_result"
    }
   ],
   "source": [
    "topics_dict_df = pd.DataFrame.from_dict(topics_dict, orient='index')\n",
    "topics_dict_df.to_csv('./source_distribution/' + output_suffix + '-source-dist.csv', index=False)\n",
    "topics_dict_df.head()\n",
    "\n",
    "\n"
   ],
   "metadata": {
    "collapsed": false,
    "pycharm": {
     "name": "#%%\n"
    }
   }
  }
 ],
 "metadata": {
  "kernelspec": {
   "display_name": "Python 3",
   "language": "python",
   "name": "python3"
  },
  "language_info": {
   "codemirror_mode": {
    "name": "ipython",
    "version": 2
   },
   "file_extension": ".py",
   "mimetype": "text/x-python",
   "name": "python",
   "nbconvert_exporter": "python",
   "pygments_lexer": "ipython2",
   "version": "2.7.6"
  }
 },
 "nbformat": 4,
 "nbformat_minor": 0
}