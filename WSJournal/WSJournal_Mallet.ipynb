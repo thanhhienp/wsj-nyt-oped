{
 "cells": [
  {
   "cell_type": "code",
   "execution_count": 3,
   "outputs": [],
   "source": [
    "import pandas as pd\n",
    "import re\n",
    "from collections import Counter\n",
    "import little_mallet_wrapper\n",
    "import glob\n",
    "from pathlib import Path"
   ],
   "metadata": {
    "collapsed": false,
    "pycharm": {
     "name": "#%%\n"
    }
   }
  },
  {
   "cell_type": "code",
   "execution_count": 4,
   "outputs": [
    {
     "data": {
      "text/plain": "         Date                                       Headline        Type  \\\n0  2020/11/01        How Congress Can Get Kids Back to Class  Commentary   \n1  2020/11/01            Voters and the Other Supreme Courts  Commentary   \n2  2020/11/01  Trump Has Torn the Mask Off the Liberal Media  Commentary   \n\n                                                 URL  \\\n0  https://www.wsj.com/articles/how-congress-can-...   \n1  https://www.wsj.com/articles/voters-and-the-ot...   \n2  https://www.wsj.com/articles/trump-has-torn-th...   \n\n                                                Text  \n0  The U.K., France and other European countries ...  \n1  The Supreme Court is on Tuesday’s ballot, lite...  \n2  Why does the media hate Donald Trump so much? ...  ",
      "text/html": "<div>\n<style scoped>\n    .dataframe tbody tr th:only-of-type {\n        vertical-align: middle;\n    }\n\n    .dataframe tbody tr th {\n        vertical-align: top;\n    }\n\n    .dataframe thead th {\n        text-align: right;\n    }\n</style>\n<table border=\"1\" class=\"dataframe\">\n  <thead>\n    <tr style=\"text-align: right;\">\n      <th></th>\n      <th>Date</th>\n      <th>Headline</th>\n      <th>Type</th>\n      <th>URL</th>\n      <th>Text</th>\n    </tr>\n  </thead>\n  <tbody>\n    <tr>\n      <th>0</th>\n      <td>2020/11/01</td>\n      <td>How Congress Can Get Kids Back to Class</td>\n      <td>Commentary</td>\n      <td>https://www.wsj.com/articles/how-congress-can-...</td>\n      <td>The U.K., France and other European countries ...</td>\n    </tr>\n    <tr>\n      <th>1</th>\n      <td>2020/11/01</td>\n      <td>Voters and the Other Supreme Courts</td>\n      <td>Commentary</td>\n      <td>https://www.wsj.com/articles/voters-and-the-ot...</td>\n      <td>The Supreme Court is on Tuesday’s ballot, lite...</td>\n    </tr>\n    <tr>\n      <th>2</th>\n      <td>2020/11/01</td>\n      <td>Trump Has Torn the Mask Off the Liberal Media</td>\n      <td>Commentary</td>\n      <td>https://www.wsj.com/articles/trump-has-torn-th...</td>\n      <td>Why does the media hate Donald Trump so much? ...</td>\n    </tr>\n  </tbody>\n</table>\n</div>"
     },
     "execution_count": 4,
     "metadata": {},
     "output_type": "execute_result"
    }
   ],
   "source": [
    "# Importing WSJ data\n",
    "filePath = \"./scraped-wsj-data/WSJ_2020-11-1_2020-11-30.csv\"\n",
    "data = pd.read_csv(filePath)\n",
    "data.head(3)"
   ],
   "metadata": {
    "collapsed": false,
    "pycharm": {
     "name": "#%%\n"
    }
   }
  },
  {
   "cell_type": "code",
   "execution_count": 5,
   "outputs": [
    {
     "name": "stdout",
     "output_type": "stream",
     "text": [
      "['The U.K., France and other European countries are closing businesses in another wave of lock downs, as Covid-19 cases and hospitalizations rise. But unlike in the spring, schools are open. Infections are also surging across the U.S., where in many places in-person classrooms are closed and distance learning has become the norm. But there’s growing evidence schools can open safely, with reasonable precautions and, perhaps soon, regular testing. ', 'The Supreme Court is on Tuesday’s ballot, literally in some states. Most state high-court judges don’t have lifetime tenure and have to face voters periodically for reconfirmation or re-election. On this week’s ballot are 66 high-court seats in 31 states, including three in North Carolina and two each in Georgia, Michigan and Ohio. Democrats hope to unseat conservatives and gain control of Ohio’s high court for the first time since 1993 and Michigan’s since 2010. ', 'Why does the media hate Donald Trump so much? There are all kinds of theories, but only one really makes sense: We are a country at odds over the most fundamental principles of ideology, economics, religion, race, culture, morality—even our own history. The media is on one side of that metaphorical war, and President Trump calls it out.', 'As the U.S. heads to an election for president and key Senate seats on Tuesday, there may be more at stake for Latin America than meets the eye. President Trump’s efforts to restore democracy in Venezuela have been ineffective and a humanitarian crisis looms. It’s tempting to think that things can’t get worse. They can.', 'Brooklyn, N.Y.']\n"
     ]
    }
   ],
   "source": [
    "# Select the first paragraph of text\n",
    "full_text = data[\"Text\"].values.tolist()\n",
    "first_paragraph = [t.split('\\n')[0] for t in data[\"Text\"]]\n",
    "print(first_paragraph[:5])"
   ],
   "metadata": {
    "collapsed": false,
    "pycharm": {
     "name": "#%%\n"
    }
   }
  },
  {
   "cell_type": "code",
   "execution_count": 6,
   "outputs": [],
   "source": [
    "training_data = [little_mallet_wrapper.process_string(text) for text in first_paragraph]"
   ],
   "metadata": {
    "collapsed": false,
    "pycharm": {
     "name": "#%%\n"
    }
   }
  },
  {
   "cell_type": "code",
   "execution_count": 9,
   "outputs": [],
   "source": [
    "# splitting text into all lowercase\n",
    "def split_into_words(any_chunk_of_text):\n",
    "    lowercase_text = [s.lower() for s in any_chunk_of_text]\n",
    "    lowercase_text = ''.join(lowercase_text)\n",
    "    split_words = re.split(\"\\W+\", lowercase_text)\n",
    "    return split_words"
   ],
   "metadata": {
    "collapsed": false,
    "pycharm": {
     "name": "#%%\n"
    }
   }
  },
  {
   "cell_type": "code",
   "execution_count": 10,
   "outputs": [],
   "source": [
    "number_of_desired_words = 10\n",
    "# Manipulate and Analyze File\n",
    "stopwords = ['i', 'me', 'my', 'myself', 'we', 'our', 'ours', 'ourselves', 'you', 'your', 'yours',\n",
    "'yourself', 'yourselves', 'he', 'him', 'his', 'himself', 'she', 'her', 'hers',\n",
    " 'herself', 'it', 'its', 'itself', 'they', 'them', 'their', 'theirs', 'themselves',\n",
    " 'what', 'which', 'who', 'whom', 'this', 'that', 'these', 'those', 'am', 'is', 'are',\n",
    " 'was', 'were', 'be', 'been', 'being', 'have', 'has', 'had', 'having', 'do', 'does',\n",
    " 'did', 'doing', 'a', 'an', 'the', 'and', 'but', 'if', 'or', 'because', 'as', 'until',\n",
    " 'while', 'of', 'at', 'by', 'for', 'with', 'about', 'against', 'between', 'into',\n",
    " 'through', 'during', 'before', 'after', 'above', 'below', 'to', 'from', 'up', 'down',\n",
    " 'in', 'out', 'on', 'off', 'over', 'under', 'again', 'further', 'then', 'once', 'here',\n",
    " 'there', 'when', 'where', 'why', 'how', 'all', 'any', 'both', 'each', 'few', 'more',\n",
    " 'most', 'other', 'some', 'such', 'no', 'nor', 'not', 'only', 'own', 'same', 'so',\n",
    " 'than', 'too', 'very', 's', 't', 'can', 'will', 'just', 'don', 'should', 'now', 've', 'll', 'amp']\n",
    "\n",
    "\n",
    "all_the_words = split_into_words(first_paragraph)\n",
    "meaningful_words = [word for word in all_the_words if word not in stopwords]\n",
    "meaningful_words_tally = Counter(meaningful_words)\n",
    "most_frequent_meaningful_words = meaningful_words_tally.most_common(number_of_desired_words)"
   ],
   "metadata": {
    "collapsed": false,
    "pycharm": {
     "name": "#%%\n"
    }
   }
  },
  {
   "cell_type": "code",
   "execution_count": 19,
   "outputs": [],
   "source": [
    "path_to_mallet = 'C:/mallet-2.0.8/bin/mallet'\n",
    "num_topics = 5\n",
    "\n",
    "#Change to your desired output directory\n",
    "output_directory_path = './topic-model-output'\n",
    "\n",
    "#No need to change anything below here\n",
    "Path(f\"{output_directory_path}\").mkdir(parents=True, exist_ok=True)\n",
    "\n",
    "path_to_training_data           = f\"{output_directory_path}/training.txt\"\n",
    "path_to_formatted_training_data = f\"{output_directory_path}/mallet.training\"\n",
    "path_to_model                   = f\"{output_directory_path}/mallet.model.{str(num_topics)}\"\n",
    "path_to_topic_keys              = f\"{output_directory_path}/mallet.topic_keys.{str(num_topics)}\"\n",
    "path_to_topic_distributions     = f\"{output_directory_path}/{str(num_topics)}\"\n"
   ],
   "metadata": {
    "collapsed": false,
    "pycharm": {
     "name": "#%%\n"
    }
   }
  },
  {
   "cell_type": "code",
   "execution_count": 20,
   "outputs": [
    {
     "name": "stdout",
     "output_type": "stream",
     "text": [
      "Importing data...\n",
      "Complete\n"
     ]
    }
   ],
   "source": [
    "#Importing Data\n",
    "little_mallet_wrapper.import_data(path_to_mallet,\n",
    "                path_to_training_data,\n",
    "                path_to_formatted_training_data,\n",
    "                training_data)"
   ],
   "metadata": {
    "collapsed": false,
    "pycharm": {
     "name": "#%%\n"
    }
   }
  },
  {
   "cell_type": "code",
   "execution_count": 21,
   "outputs": [
    {
     "name": "stdout",
     "output_type": "stream",
     "text": [
      "Training topic model...\n",
      "Complete\n"
     ]
    }
   ],
   "source": [
    "#Training Data\n",
    "little_mallet_wrapper.train_topic_model(path_to_mallet,\n",
    "                      path_to_formatted_training_data,\n",
    "                      path_to_model,\n",
    "                      path_to_topic_keys,\n",
    "                      path_to_topic_distributions,\n",
    "                      num_topics)"
   ],
   "metadata": {
    "collapsed": false,
    "pycharm": {
     "name": "#%%\n"
    }
   }
  },
  {
   "cell_type": "code",
   "execution_count": 22,
   "outputs": [
    {
     "name": "stdout",
     "output_type": "stream",
     "text": [
      "✨Topic 0✨\n",
      "\n",
      "['biden', 'president', 'trump', 'election', 'joe', 'NUM', 'states', 'party', 'senate', 'court', 'nov', 'democrats', 'administration', 'donald', 'obama', 'democratic', 'presidential', 'tuesday', 'vote', 'won']\n",
      "\n",
      "✨Topic 1✨\n",
      "\n",
      "['new', 'nov', 'state', 'federal', 'government', 'could', 'york', 'regarding', 'gov', 'right', 'two', 'school', 'legal', 'politics', 'support', 'law', 'city', 'long', 'schools', 'home']\n",
      "\n",
      "✨Topic 2✨\n",
      "\n",
      "['NUM', 'covid', 'many', 'pandemic', 'people', 'media', 'oct', 'nov', 'health', 'also', 'world', 'news', 'country', 'vaccine', 'case', 'care', 'day', 'point', 'make', 'business']\n",
      "\n",
      "✨Topic 3✨\n",
      "\n",
      "['NUM', 'year', 'time', 'voters', 'first', 'political', 'may', 'like', 'even', 'since', 'another', 'well', 'tax', 'million', 'years', 'still', 'monday', 'way', 'past', 'california']\n",
      "\n",
      "✨Topic 4✨\n",
      "\n",
      "['one', 'would', 'american', 'america', 'years', 'policy', 'china', 'democracy', 'much', 'made', 'world', 'americans', 'back', 'even', 'end', 'trade', 'national', 'want', 'book', 'security']\n",
      "\n"
     ]
    }
   ],
   "source": [
    "topics = little_mallet_wrapper.load_topic_keys(path_to_topic_keys)\n",
    "\n",
    "for topic_number, topic in enumerate(topics):\n",
    "    print(f\"✨Topic {topic_number}✨\\n\\n{topic}\\n\")"
   ],
   "metadata": {
    "collapsed": false,
    "pycharm": {
     "name": "#%%\n"
    }
   }
  },
  {
   "cell_type": "code",
   "execution_count": null,
   "outputs": [],
   "source": [
    "\n",
    "\n"
   ],
   "metadata": {
    "collapsed": false,
    "pycharm": {
     "name": "#%%\n"
    }
   }
  }
 ],
 "metadata": {
  "kernelspec": {
   "display_name": "Python 3",
   "language": "python",
   "name": "python3"
  },
  "language_info": {
   "codemirror_mode": {
    "name": "ipython",
    "version": 2
   },
   "file_extension": ".py",
   "mimetype": "text/x-python",
   "name": "python",
   "nbconvert_exporter": "python",
   "pygments_lexer": "ipython2",
   "version": "2.7.6"
  }
 },
 "nbformat": 4,
 "nbformat_minor": 0
}