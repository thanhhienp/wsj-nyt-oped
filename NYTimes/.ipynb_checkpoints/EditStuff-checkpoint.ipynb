{
 "cells": [
  {
   "cell_type": "code",
   "execution_count": 12,
   "metadata": {},
   "outputs": [],
   "source": [
    "directory = \"/Users/joshs/Desktop/Spring 2021/HUM346/wsj-nyt-oped/NYTimes\"\n",
    "import pandas as pd\n",
    "import glob\n",
    "files = glob.glob(\"/Users/joshs/Desktop/Spring 2021/HUM346/wsj-nyt-oped/NYTimes/Articles/*.txt\")\n",
    "opinions = {'Headline': [], 'text': []}\n",
    "for file in files:\n",
    "    opinions['text'].append(open(file, encoding='utf-8').read())\n",
    "    opinions['Headline'].append(file.replace(\"/Users/joshs/Desktop/Spring 2021/HUM346/wsj-nyt-oped/NYTimes/Articles/\", \"\"))\n",
    "dataset = pd.DataFrame(opinions)\n",
    "name = '/Users/joshs/Desktop/Spring 2021/HUM346/wsj-nyt-oped/NYTimes/articles.csv'\n",
    "dataset.to_csv(name, index=False)"
   ]
  },
  {
   "cell_type": "code",
   "execution_count": null,
   "metadata": {},
   "outputs": [],
   "source": []
  }
 ],
 "metadata": {
  "kernelspec": {
   "display_name": "Python 3",
   "language": "python",
   "name": "python3"
  },
  "language_info": {
   "codemirror_mode": {
    "name": "ipython",
    "version": 3
   },
   "file_extension": ".py",
   "mimetype": "text/x-python",
   "name": "python",
   "nbconvert_exporter": "python",
   "pygments_lexer": "ipython3",
   "version": "3.8.5"
  }
 },
 "nbformat": 4,
 "nbformat_minor": 4
}
