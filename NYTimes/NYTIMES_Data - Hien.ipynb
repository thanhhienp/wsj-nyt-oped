{
 "cells": [
  {
   "cell_type": "code",
   "execution_count": 12,
   "metadata": {},
   "outputs": [],
   "source": [
    "import numpy as np\n",
    "import pandas as pd\n",
    "import json\n",
    "import re\n",
    "from collections import Counter\n",
    "import little_mallet_wrapper\n",
    "import seaborn\n",
    "import glob\n",
    "from pathlib import Path\n",
    "\n",
    "#LOADING EVERYTHING\n",
    "#directory = \"/Users/joshs/Desktop/Spring 2021/HUM346/wsj-nyt-oped\""
   ]
  },
  {
   "cell_type": "code",
   "execution_count": 13,
   "metadata": {},
   "outputs": [],
   "source": [
    "#Importing stuff from NYTIMES\n",
    "from pynytimes import NYTAPI\n",
    "import urllib3, json, datetime\n",
    "nyt = NYTAPI(\"nKBpzKBvOYipTxZf1T1NwCsVeXad5xoE\", parse_dates=True)\n",
    "articles = nyt.article_search(\n",
    "    results = 50,\n",
    "    dates = {\n",
    "        \"begin\": datetime.datetime(2020, 1, 31),\n",
    "        \"end\": datetime.datetime(2020, 12, 30)\n",
    "    },\n",
    "    options = {\n",
    "        \"sources\": [\n",
    "            \"New York Times\",\n",
    "        ],\n",
    "        \"news_desk\": [\n",
    "            \"OpEd\",\n",
    "            \"Editorial\"\n",
    "            \n",
    "        ]\n",
    "    }\n",
    ")"
   ]
  },
  {
   "cell_type": "code",
   "execution_count": 16,
   "metadata": {},
   "outputs": [],
   "source": [
    "#Writing articles to be saved\n",
    "for article in articles:\n",
    "    article['abstract'] = re.sub('\\?', '', article['abstract'])\n",
    "    text_file = open(f\"./Articles/{article['abstract']}.txt\", \"w+\")\n",
    "    n = text_file.write(article['lead_paragraph'] + \" \\n\", )\n",
    "    text_file.close()"
   ]
  },
  {
   "cell_type": "code",
   "execution_count": 17,
   "metadata": {},
   "outputs": [],
   "source": [
    "#splitting text into all lowercase\n",
    "def split_into_words(any_chunk_of_text):\n",
    "    lowercase_text = any_chunk_of_text.lower()\n",
    "    split_words = re.split(\"\\W+\", lowercase_text) \n",
    "    return split_words"
   ]
  },
  {
   "cell_type": "code",
   "execution_count": 18,
   "metadata": {},
   "outputs": [],
   "source": [
    "#Combining all data together IT SHOULD WORK NOW BUT WAS NOT WORKING EARLIER\n",
    "files = glob.glob(\"./Articles/*.txt\")\n",
    "training_data = []\n",
    "for file in files:\n",
    "    text = open(file).read()\n",
    "    processed_text = little_mallet_wrapper.process_string(text)\n",
    "    training_data.append(processed_text)"
   ]
  },
  {
   "cell_type": "code",
   "execution_count": 21,
   "metadata": {},
   "outputs": [],
   "source": [
    "original_texts = []\n",
    "for file in files:\n",
    "    text = open(file, encoding='cp1252').read()\n",
    "    original_texts.append(text)"
   ]
  },
  {
   "cell_type": "code",
   "execution_count": 22,
   "metadata": {},
   "outputs": [],
   "source": [
    "full_text = open(\"./articles.txt\", encoding=\"utf-8\").read()\n",
    "number_of_desired_words = 10\n",
    "# Manipulate and Analyze File\n",
    "stopwords = ['i', 'me', 'my', 'myself', 'we', 'our', 'ours', 'ourselves', 'you', 'your', 'yours',\n",
    "'yourself', 'yourselves', 'he', 'him', 'his', 'himself', 'she', 'her', 'hers',\n",
    " 'herself', 'it', 'its', 'itself', 'they', 'them', 'their', 'theirs', 'themselves',\n",
    " 'what', 'which', 'who', 'whom', 'this', 'that', 'these', 'those', 'am', 'is', 'are',\n",
    " 'was', 'were', 'be', 'been', 'being', 'have', 'has', 'had', 'having', 'do', 'does',\n",
    " 'did', 'doing', 'a', 'an', 'the', 'and', 'but', 'if', 'or', 'because', 'as', 'until',\n",
    " 'while', 'of', 'at', 'by', 'for', 'with', 'about', 'against', 'between', 'into',\n",
    " 'through', 'during', 'before', 'after', 'above', 'below', 'to', 'from', 'up', 'down',\n",
    " 'in', 'out', 'on', 'off', 'over', 'under', 'again', 'further', 'then', 'once', 'here',\n",
    " 'there', 'when', 'where', 'why', 'how', 'all', 'any', 'both', 'each', 'few', 'more',\n",
    " 'most', 'other', 'some', 'such', 'no', 'nor', 'not', 'only', 'own', 'same', 'so',\n",
    " 'than', 'too', 'very', 's', 't', 'can', 'will', 'just', 'don', 'should', 'now', 've', 'll', 'amp']\n",
    "\n",
    "\n",
    "all_the_words = split_into_words(full_text)\n",
    "meaningful_words = [word for word in all_the_words if word not in stopwords]\n",
    "meaningful_words_tally = Counter(meaningful_words)\n",
    "most_frequent_meaningful_words = meaningful_words_tally.most_common(number_of_desired_words)"
   ]
  },
  {
   "cell_type": "code",
   "execution_count": 23,
   "metadata": {},
   "outputs": [
    {
     "data": {
      "text/plain": "['monday congress authorized creation latino museum part NUM NUM trillion year end spending bill long overdue decades activists fighting establish latino museum washington mall creation essential documenting community contribution education future americans',\n 'many black americans say wary taking coronavirus vaccine logical result centuries abuse exploitation united states health care system empathize patient told one baby trust vaccines friends family say going wait',\n 'last decades congress diversified important ways gotten less white less male less straight positive developments staring one many recent senate hearings filled usual magisterial blustering self important yada yada dawned way congress moved wrong direction become quite brazenly unrepresentative',\n 'routine home angie sinopoli talkative matriarch large italian family heaped praise children grandchildren even memory faded youngest son steven came house cooked dinner nearly every night couple falls bouts rehabilitation centers ended syracuse nursing home march NUM two days later stopped visits protect residents coronavirus mrs sinopoli hasn seen family nine months vocabulary dwindled NUM words',\n 'look storied rose bowl game understand college football disingenuous perilous posturing sanctity athletics programs coronavirus ravaged country college campuses',\n 'personal development opportunities presented quarantine knitting baking sourdough starting tiktok none user friendly talking',\n 'journalist anne helen petersen recently asked twitter articles long term psychological effects pandemic soon noticed many replies damage children',\n 'facebook grew one world largest companies gathering large quantities personal data auctioning advertisers apple posing threat business facebook embarked quixotic marketing campaign rival says really saving small businesses',\n 'new delhi remember way grandfather struggled everyday things eating drinking even smiling response joke favorite song disease froze muscles turning majestically expressive face aging patriarch mask',\n 'get used different',\n 'world trade organization person would dude bar drinking afternoon away business suit wondering went wrong used big shot',\n 'pastime one used give considerable pleasure lately morphed source anxiety even horror earth watching',\n 'fourth floor children national hospital washington one women vitals calls NUM year old daughter tiktok hey tiktok happening today asks get scale disarmingly kind casual nod life beyond oncology',\n 'year awakened fact die always known true technical sense pandemic demands internalize understanding one thing acknowledge deaths others another accept emotionally taxing difficult even conceive means imagine reckon important personalize life death',\n 'hospital along hundreds others across country recently began administer first covid NUM vaccines social media feed filled pictures friends colleagues sleeves rolled writing much vaccination means otherwise dark year moment hope',\n 'NUM billion pandemic aid package emerged sunday months negotiations house democrats senate republicans necessary measure ease suffering millions americans help unemployed workers feed families avoid eviction help small businesses avoid bankruptcy help keep trains buses running cities across country',\n 'years ago lived across street halfway house lower east side sometimes meander bum cigarettes men loitered outside smoke make small talk one christmas brought large cheesecake consolation gift none spending christmas families none thrilled',\n 'listen subscribe argument mobile device',\n 'every five years try return land end continent edge columbia river empties pacific ocean final heave river west prefer winter solstice long night soul northern hemisphere',\n 'vienna philosopher avishai margalit born NUM onset world war lived life israel country always existed war peace value political compromise always occupied professor margalit thinking come surprise haunted political compromise becomes act political maturity moral responsibility conditions becomes morally unacceptable',\n 'ajay banga spent decade chief executive mastercard last year oversaw NUM NUM trillion transactions means knows spending right aggregated anonymized course long might take get current economic funk also means banga leverage virtually business relies credit card payments example following recent reporting new york times columnist nicholas kristof scale child pornography pornhub mastercard announced would terminate payments site',\n 'nashville midway december midst unseasonable warm spell sent text gang shall meet deck around NUM NUM',\n 'xenia ohio NUM year old mother dying saturday election suburban georgia votes tallied sister cookie sitting mom memory care unit lights dimmed thing cookie agreed politically discuss orange elephant room',\n 'largest burden covid NUM undoubtedly fallen people older NUM account around NUM percent deaths united states momentarily eclipse mind eye something else becomes visible corona virus',\n 'attorney justice department donald trump elected president worked office legal counsel presidents turn permission slips say executive orders contemplated actions lawful joined department obama administration career attorney whose work supposed independent politics',\n 'tumultuous NUM months harrowing ride pandemic elections racial injustices civic turmoil comments shared fears frustrations anger also hope humor much wisdom process helped document extraordinary year',\n 'monday court riyadh saudi arabia sentenced loujain hathloul saudi activist five years eight months prison hathloul campaigned right women drive convicted trying harm national security advancing foreign agenda already prison two half years combination time served partial sentence suspension could lead release month',\n 'months ago veteran american distance runner sara hall seemed facing version pandemic misery failed qualify olympics dropping last two marathons everything canceled caring four daughters home NUM age many elite athletes careers start winding',\n 'achievement gap new york segregated unequal schools poised become chasm wake coronavirus pandemic',\n 'speaking recently matt dunne founder center rural innovation promotes digital economic development small town america telling vermont community near home great public library could drive sunday parking lot would full said one problem library closed sundays',\n 'many residents nursing homes precarious situations covid NUM top spending months isolated loved ones nursing home residents particularly vulnerable coronavirus new york times analysis found NUM percent coronavirus deaths tied long term care facilities',\n 'centers disease control prevention charged safeguarding american lives NUMth month coronavirus pandemic infections surge new highs agency advice citizens remains confusing right time need clarity',\n 'know millions unemployed workers won kicked unemployment insurance least NUM weeks get NUM every week addition current state benefit vast majority americans receive NUM direct payments government small businesses access modest new tranche forgivable government loans',\n 'march weekend indoor dining new york city banned first time year ate friday night ate saturday night partly friend town mostly love restaurants live restaurants many new yorkers say many new yorkers live restaurants anymore consequence many restaurants longer live',\n 'NUM globalization surging commodity prices astronomically boosted economic growth among nations emerging economies next decade share global economy nearly doubled growing NUM percent NUM NUM NUM developing economies featured penn world table catching united states average income helping millions escape poverty celebratory mood captured popular phrase rise rest',\n 'early march walking around magical place earth disney world magic kingdom orlando fla asking guests comfortable theme park thousands strangers sticky fingered children virus believed passed touch spreading throughout world',\n 'common refrain among people marooned homes year trying manage jobs children distance learning always fighting losing battle dishes laundry dog hair grocery list cannot wait get back office say',\n 'london came know david cornwell wrote john carré united states britain removed saddam hussein power neighbor met local pub hampstead north london introduced mutual friend knew genial white haired gentleman brown suede shoes asked reached table',\n 'president elect joe biden appears framing foreign policy around three themes engaging america friends allies renewing participation international organizations relying heavily nonmilitary instruments power considering challenges posed china countries well transnational threats range pandemics climate change view correct priorities though course unparalleled military power must remain backdrop america relations world',\n 'supreme court never going hear let alone grant request red state attorneys general white house overturn election results four battleground states went joe biden knew privileged could offered inventory lawsuit flaws standing one foot slightest doubt case non starter',\n 'worst possible time united states vulnerable presidential transition devastating public health crisis networks federal government much corporate america compromised foreign nation need understand scale significance happening',\n 'london early lockdown spent evenings front room mother house drunk staring computer reeling prospect body deprived indefinitely touch days sense things make life really might permanently destroyed father playwright speculated sanguine acceptance might never see work another theater production leaving ireland grew parents live seemed like remote possibility even return britain resident',\n 'measure society well takes care young past nine months damning indictment nation',\n 'republican officials indulged assisted president trump effort nullify NUM election many motivations partisanship conviction delusion cynicism ambition paranoia fear reasons participation antidemocratic power grab point single truth many trump binds republican party together',\n 'growing rural northern louisiana everyone knew least every household seemed guns men guns racked back windows pickup trucks pistols seats women like mother tucked smaller handguns purses',\n 'terre haute ind thursday evening sat lobby marriott hotel terre haute ind shawn nolan victor abreu tried save man life wore bluejeans button shirts day scruff nolan salt pepper abreu black shared bottle red wine plastic cups two men public defenders whose caseloads strictly death penalty appeals discussed merits pleading supreme court stay execution',\n 'april interview pandemic philosopher slavoj zizek said forget economy treat simply irrelevant things like fashion industry voicing prejudice usually unspoken contemptuous disregard fashion industry merely conspicuous consumption self indulgence simply allowed die',\n 'stimulus deal congress reached weekend seriously disaster relief boosting economy didn come moment soon actually came much late crucial aid many unemployed americans businesses expired months ago aid back',\n 'seem want days stare mindlessly health care workers elderly getting stuck arm needle',\n 'half world population experience menopause yet period isolating woman personal professional life menopause marks end menstruation changes come often discussed openly short documentary women across england share intimate complicated illuminating experiences menopause conversation happen often without fear']"
     },
     "execution_count": 23,
     "metadata": {},
     "output_type": "execute_result"
    }
   ],
   "source": [
    "training_data"
   ]
  },
  {
   "cell_type": "code",
   "execution_count": 24,
   "metadata": {},
   "outputs": [],
   "source": [
    "path_to_mallet = 'C:/mallet-2.0.8/bin/mallet'\n",
    "num_topics = 5\n",
    "    \n",
    "#Change to your desired output directory\n",
    "output_directory_path = './topic-model-output'\n",
    "\n",
    "#No need to change anything below here\n",
    "Path(f\"{output_directory_path}\").mkdir(parents=True, exist_ok=True)\n",
    "\n",
    "path_to_training_data           = f\"{output_directory_path}/training.txt\"\n",
    "path_to_formatted_training_data = f\"{output_directory_path}/mallet.training\"\n",
    "path_to_model                   = f\"{output_directory_path}/mallet.model.{str(num_topics)}\"\n",
    "path_to_topic_keys              = f\"{output_directory_path}/mallet.topic_keys.{str(num_topics)}\"\n",
    "path_to_topic_distributions     = f\"{output_directory_path}/{str(num_topics)}\"\n"
   ]
  },
  {
   "cell_type": "code",
   "execution_count": 26,
   "metadata": {},
   "outputs": [
    {
     "name": "stdout",
     "output_type": "stream",
     "text": [
      "Importing data...\n",
      "Complete\n"
     ]
    }
   ],
   "source": [
    "#Importing Data\n",
    "little_mallet_wrapper.import_data(path_to_mallet,\n",
    "                path_to_training_data,\n",
    "                path_to_formatted_training_data,\n",
    "                training_data)"
   ]
  },
  {
   "cell_type": "code",
   "execution_count": 27,
   "metadata": {},
   "outputs": [
    {
     "name": "stdout",
     "output_type": "stream",
     "text": [
      "Training topic model...\n",
      "Complete\n"
     ]
    }
   ],
   "source": [
    "#Training Data Doesnt seem to work?\n",
    "little_mallet_wrapper.train_topic_model(path_to_mallet,\n",
    "                      path_to_formatted_training_data,\n",
    "                      path_to_model,\n",
    "                      path_to_topic_keys,\n",
    "                      path_to_topic_distributions,\n",
    "                      num_topics)"
   ]
  },
  {
   "cell_type": "code",
   "execution_count": 28,
   "metadata": {},
   "outputs": [
    {
     "name": "stdout",
     "output_type": "stream",
     "text": [
      "✨Topic 0✨\n",
      "\n",
      "['one', 'world', 'house', 'even', 'america', 'every', 'like', 'public', 'seemed', 'trump', 'election', 'mother', 'economic', 'might', 'would', 'used', 'country', 'less', 'important', 'last']\n",
      "\n",
      "✨Topic 1✨\n",
      "\n",
      "['NUM', 'many', 'new', 'months', 'coronavirus', 'states', 'home', 'care', 'live', 'restaurants', 'night', 'united', 'spending', 'london', 'government', 'percent', 'workers', 'unemployed', 'millions', 'covid']\n",
      "\n",
      "✨Topic 2✨\n",
      "\n",
      "['pandemic', 'life', 'small', 'across', 'always', 'businesses', 'menopause', 'economy', 'becomes', 'come', 'political', 'ago', 'help', 'aid', 'things', 'personal', 'large', 'often', 'industry', 'fashion']\n",
      "\n",
      "✨Topic 3✨\n",
      "\n",
      "['time', 'years', 'two', 'congress', 'could', 'foreign', 'court', 'right', 'men', 'much', 'recently', 'came', 'health', 'discussed', 'abreu', 'nolan', 'ind', 'haute', 'terre', 'red']\n",
      "\n",
      "✨Topic 4✨\n",
      "\n",
      "['year', 'get', 'children', 'say', 'americans', 'long', 'power', 'around', 'means', 'women', 'knew', 'back', 'president', 'payments', 'scale', 'business', 'none', 'tiktok', 'friends', 'republican']\n",
      "\n"
     ]
    }
   ],
   "source": [
    "topics = little_mallet_wrapper.load_topic_keys(path_to_topic_keys)\n",
    "\n",
    "for topic_number, topic in enumerate(topics):\n",
    "    print(f\"✨Topic {topic_number}✨\\n\\n{topic}\\n\")"
   ]
  },
  {
   "cell_type": "code",
   "execution_count": null,
   "metadata": {},
   "outputs": [],
   "source": []
  }
 ],
 "metadata": {
  "kernelspec": {
   "display_name": "Python 3",
   "language": "python",
   "name": "python3"
  },
  "language_info": {
   "codemirror_mode": {
    "name": "ipython",
    "version": 3
   },
   "file_extension": ".py",
   "mimetype": "text/x-python",
   "name": "python",
   "nbconvert_exporter": "python",
   "pygments_lexer": "ipython3",
   "version": "3.8.5"
  }
 },
 "nbformat": 4,
 "nbformat_minor": 4
}